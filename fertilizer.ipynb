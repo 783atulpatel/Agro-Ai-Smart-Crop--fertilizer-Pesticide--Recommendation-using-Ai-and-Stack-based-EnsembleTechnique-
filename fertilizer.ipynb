{
 "cells": [
  {
   "cell_type": "code",
   "execution_count": null,
   "metadata": {},
   "outputs": [],
   "source": [
    "# Install the Kaggle library\n",
    "!pip install kaggle\n",
    "\n",
    "# Import necessary modules\n",
    "from google.colab import files\n",
    "\n",
    "# Upload the API key file (kaggle.json) that you downloaded\n",
    "uploaded = files.upload()\n",
    "\n",
    "# Move the uploaded file to ~/.kaggle/\n",
    "!mkdir ~/.kaggle\n",
    "!cp kaggle.json ~/.kaggle/\n",
    "!chmod 600 ~/.kaggle/kaggle.json\n",
    "\n",
    "# Download the dataset from Kaggle\n",
    "!kaggle datasets download -d simranvolunesia/pest-dataset"
   ]
  },
  {
   "cell_type": "code",
   "execution_count": null,
   "metadata": {},
   "outputs": [],
   "source": [
    "import zipfile\n",
    "import os\n",
    "\n",
    "# Specify the path to your zip file\n",
    "zip_file = '/content/pest-dataset.zip'  # Replace with your actual zip file path\n",
    "\n",
    "# Specify the directory where you want to extract the contents\n",
    "extract_dir = '/content'\n",
    "\n",
    "# Create a ZipFile object\n",
    "with zipfile.ZipFile(zip_file, 'r') as zip_ref:\n",
    "    # Extract all the contents to the specified directory\n",
    "    zip_ref.extractall(extract_dir)"
   ]
  }
 ],
 "metadata": {
  "language_info": {
   "name": "python"
  }
 },
 "nbformat": 4,
 "nbformat_minor": 2
}
